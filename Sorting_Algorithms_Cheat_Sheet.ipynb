{
  "nbformat": 4,
  "nbformat_minor": 0,
  "metadata": {
    "colab": {
      "name": "Sorting Algorithms Cheat Sheet.ipynb",
      "version": "0.3.2",
      "provenance": []
    },
    "kernelspec": {
      "name": "python3",
      "display_name": "Python 3"
    }
  },
  "cells": [
    {
      "cell_type": "markdown",
      "metadata": {
        "id": "Tz18SOLL4QWA",
        "colab_type": "text"
      },
      "source": [
        "# 1. Bubble Sort\n",
        "\n",
        "Repeatedly steps through the list to be sorted, compares each pair of adjacent items and swaps them if they are in the wrong order. \n",
        "\n",
        "Pseudo Code:\n",
        "\n",
        "* Iterate through the number of elements \n",
        "* Inner loop for the number of elements minus the current number\n",
        "* Check if the current element is not sorted\n",
        "  * In this case, sort them and set swapped to True and stop \n",
        "* Because of this repeatition, everything should be sorted. \n",
        "\n",
        "\n",
        "\n",
        "\n"
      ]
    },
    {
      "cell_type": "code",
      "metadata": {
        "id": "hJ9olsH-4jpz",
        "colab_type": "code",
        "colab": {
          "base_uri": "https://localhost:8080/",
          "height": 51
        },
        "outputId": "61175c35-9ca2-478b-c199-e7d85a503907"
      },
      "source": [
        "def bubble_sort(collection):\n",
        "    length = len(collection)\n",
        "    for i in range(length-1):\n",
        "        swapped = False\n",
        "        for j in range(length-1-i):\n",
        "            if collection[j] > collection[j+1]:\n",
        "                swapped = True\n",
        "                collection[j], collection[j+1] = collection[j+1], collection[j]\n",
        "        if not swapped: \n",
        "          break  # Stop iteration if the collection is sorted.\n",
        "    return collection\n",
        "\n",
        "\n",
        "user_input = input('Enter numbers separated by a comma:').strip()\n",
        "unsorted = [int(item) for item in user_input.split(',')]\n",
        "print(*bubble_sort(unsorted), sep=',')"
      ],
      "execution_count": 2,
      "outputs": [
        {
          "output_type": "stream",
          "text": [
            "Enter numbers separated by a comma:8, 99, 1024, 567\n",
            "8,99,567,1024\n"
          ],
          "name": "stdout"
        }
      ]
    },
    {
      "cell_type": "markdown",
      "metadata": {
        "id": "UQAlcBQS6N6P",
        "colab_type": "text"
      },
      "source": [
        "# 2. Bucket sort \n",
        "\n",
        "Sorting algorithm that works by disturbing the element of an array into a number of buckets. Each buckets is then sorted inidivually, either using a different sorting algorithm, or by recursively applying the bucket sorting algorithm. "
      ]
    },
    {
      "cell_type": "code",
      "metadata": {
        "id": "FpPFYz-UCs6v",
        "colab_type": "code",
        "colab": {}
      },
      "source": [
        ""
      ],
      "execution_count": 0,
      "outputs": []
    },
    {
      "cell_type": "markdown",
      "metadata": {
        "id": "VluYHCER4ncD",
        "colab_type": "text"
      },
      "source": [
        "References:\n",
        "\n",
        "\n",
        "\n",
        "1.   https://github.com/TheAlgorithms/Python\n",
        "\n"
      ]
    }
  ]
}